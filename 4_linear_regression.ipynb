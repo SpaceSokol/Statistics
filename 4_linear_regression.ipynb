{
  "nbformat": 4,
  "nbformat_minor": 0,
  "metadata": {
    "colab": {
      "provenance": []
    },
    "kernelspec": {
      "name": "python3",
      "display_name": "Python 3"
    }
  },
  "cells": [
    {
      "cell_type": "code",
      "source": [
        "import pandas as pd\n",
        "from google.colab import files\n",
        "\n",
        "files.upload()\n",
        "!ls\n",
        "\n",
        "df = pd.read_excel('task2.xlsx', index_col=0)#Data Frame\n",
        "df"
      ],
      "metadata": {
        "id": "MRrZ9jkE26_n",
        "colab": {
          "base_uri": "https://localhost:8080/",
          "height": 497
        },
        "outputId": "49f41a63-631f-4ed6-95e5-98f89e64cdea"
      },
      "execution_count": null,
      "outputs": [
        {
          "output_type": "display_data",
          "data": {
            "text/plain": [
              "<IPython.core.display.HTML object>"
            ],
            "text/html": [
              "\n",
              "     <input type=\"file\" id=\"files-f094a302-cf28-415e-b4a4-ee39a988e2a8\" name=\"files[]\" multiple disabled\n",
              "        style=\"border:none\" />\n",
              "     <output id=\"result-f094a302-cf28-415e-b4a4-ee39a988e2a8\">\n",
              "      Upload widget is only available when the cell has been executed in the\n",
              "      current browser session. Please rerun this cell to enable.\n",
              "      </output>\n",
              "      <script>// Copyright 2017 Google LLC\n",
              "//\n",
              "// Licensed under the Apache License, Version 2.0 (the \"License\");\n",
              "// you may not use this file except in compliance with the License.\n",
              "// You may obtain a copy of the License at\n",
              "//\n",
              "//      http://www.apache.org/licenses/LICENSE-2.0\n",
              "//\n",
              "// Unless required by applicable law or agreed to in writing, software\n",
              "// distributed under the License is distributed on an \"AS IS\" BASIS,\n",
              "// WITHOUT WARRANTIES OR CONDITIONS OF ANY KIND, either express or implied.\n",
              "// See the License for the specific language governing permissions and\n",
              "// limitations under the License.\n",
              "\n",
              "/**\n",
              " * @fileoverview Helpers for google.colab Python module.\n",
              " */\n",
              "(function(scope) {\n",
              "function span(text, styleAttributes = {}) {\n",
              "  const element = document.createElement('span');\n",
              "  element.textContent = text;\n",
              "  for (const key of Object.keys(styleAttributes)) {\n",
              "    element.style[key] = styleAttributes[key];\n",
              "  }\n",
              "  return element;\n",
              "}\n",
              "\n",
              "// Max number of bytes which will be uploaded at a time.\n",
              "const MAX_PAYLOAD_SIZE = 100 * 1024;\n",
              "\n",
              "function _uploadFiles(inputId, outputId) {\n",
              "  const steps = uploadFilesStep(inputId, outputId);\n",
              "  const outputElement = document.getElementById(outputId);\n",
              "  // Cache steps on the outputElement to make it available for the next call\n",
              "  // to uploadFilesContinue from Python.\n",
              "  outputElement.steps = steps;\n",
              "\n",
              "  return _uploadFilesContinue(outputId);\n",
              "}\n",
              "\n",
              "// This is roughly an async generator (not supported in the browser yet),\n",
              "// where there are multiple asynchronous steps and the Python side is going\n",
              "// to poll for completion of each step.\n",
              "// This uses a Promise to block the python side on completion of each step,\n",
              "// then passes the result of the previous step as the input to the next step.\n",
              "function _uploadFilesContinue(outputId) {\n",
              "  const outputElement = document.getElementById(outputId);\n",
              "  const steps = outputElement.steps;\n",
              "\n",
              "  const next = steps.next(outputElement.lastPromiseValue);\n",
              "  return Promise.resolve(next.value.promise).then((value) => {\n",
              "    // Cache the last promise value to make it available to the next\n",
              "    // step of the generator.\n",
              "    outputElement.lastPromiseValue = value;\n",
              "    return next.value.response;\n",
              "  });\n",
              "}\n",
              "\n",
              "/**\n",
              " * Generator function which is called between each async step of the upload\n",
              " * process.\n",
              " * @param {string} inputId Element ID of the input file picker element.\n",
              " * @param {string} outputId Element ID of the output display.\n",
              " * @return {!Iterable<!Object>} Iterable of next steps.\n",
              " */\n",
              "function* uploadFilesStep(inputId, outputId) {\n",
              "  const inputElement = document.getElementById(inputId);\n",
              "  inputElement.disabled = false;\n",
              "\n",
              "  const outputElement = document.getElementById(outputId);\n",
              "  outputElement.innerHTML = '';\n",
              "\n",
              "  const pickedPromise = new Promise((resolve) => {\n",
              "    inputElement.addEventListener('change', (e) => {\n",
              "      resolve(e.target.files);\n",
              "    });\n",
              "  });\n",
              "\n",
              "  const cancel = document.createElement('button');\n",
              "  inputElement.parentElement.appendChild(cancel);\n",
              "  cancel.textContent = 'Cancel upload';\n",
              "  const cancelPromise = new Promise((resolve) => {\n",
              "    cancel.onclick = () => {\n",
              "      resolve(null);\n",
              "    };\n",
              "  });\n",
              "\n",
              "  // Wait for the user to pick the files.\n",
              "  const files = yield {\n",
              "    promise: Promise.race([pickedPromise, cancelPromise]),\n",
              "    response: {\n",
              "      action: 'starting',\n",
              "    }\n",
              "  };\n",
              "\n",
              "  cancel.remove();\n",
              "\n",
              "  // Disable the input element since further picks are not allowed.\n",
              "  inputElement.disabled = true;\n",
              "\n",
              "  if (!files) {\n",
              "    return {\n",
              "      response: {\n",
              "        action: 'complete',\n",
              "      }\n",
              "    };\n",
              "  }\n",
              "\n",
              "  for (const file of files) {\n",
              "    const li = document.createElement('li');\n",
              "    li.append(span(file.name, {fontWeight: 'bold'}));\n",
              "    li.append(span(\n",
              "        `(${file.type || 'n/a'}) - ${file.size} bytes, ` +\n",
              "        `last modified: ${\n",
              "            file.lastModifiedDate ? file.lastModifiedDate.toLocaleDateString() :\n",
              "                                    'n/a'} - `));\n",
              "    const percent = span('0% done');\n",
              "    li.appendChild(percent);\n",
              "\n",
              "    outputElement.appendChild(li);\n",
              "\n",
              "    const fileDataPromise = new Promise((resolve) => {\n",
              "      const reader = new FileReader();\n",
              "      reader.onload = (e) => {\n",
              "        resolve(e.target.result);\n",
              "      };\n",
              "      reader.readAsArrayBuffer(file);\n",
              "    });\n",
              "    // Wait for the data to be ready.\n",
              "    let fileData = yield {\n",
              "      promise: fileDataPromise,\n",
              "      response: {\n",
              "        action: 'continue',\n",
              "      }\n",
              "    };\n",
              "\n",
              "    // Use a chunked sending to avoid message size limits. See b/62115660.\n",
              "    let position = 0;\n",
              "    do {\n",
              "      const length = Math.min(fileData.byteLength - position, MAX_PAYLOAD_SIZE);\n",
              "      const chunk = new Uint8Array(fileData, position, length);\n",
              "      position += length;\n",
              "\n",
              "      const base64 = btoa(String.fromCharCode.apply(null, chunk));\n",
              "      yield {\n",
              "        response: {\n",
              "          action: 'append',\n",
              "          file: file.name,\n",
              "          data: base64,\n",
              "        },\n",
              "      };\n",
              "\n",
              "      let percentDone = fileData.byteLength === 0 ?\n",
              "          100 :\n",
              "          Math.round((position / fileData.byteLength) * 100);\n",
              "      percent.textContent = `${percentDone}% done`;\n",
              "\n",
              "    } while (position < fileData.byteLength);\n",
              "  }\n",
              "\n",
              "  // All done.\n",
              "  yield {\n",
              "    response: {\n",
              "      action: 'complete',\n",
              "    }\n",
              "  };\n",
              "}\n",
              "\n",
              "scope.google = scope.google || {};\n",
              "scope.google.colab = scope.google.colab || {};\n",
              "scope.google.colab._files = {\n",
              "  _uploadFiles,\n",
              "  _uploadFilesContinue,\n",
              "};\n",
              "})(self);\n",
              "</script> "
            ]
          },
          "metadata": {}
        },
        {
          "output_type": "stream",
          "name": "stdout",
          "text": [
            "Saving task2.xlsx to task2.xlsx\n",
            "sample_data  task2.xlsx\n"
          ]
        },
        {
          "output_type": "execute_result",
          "data": {
            "text/plain": [
              "           sbp        bmi        age  experience\n",
              "0   134.862052  34.497381  44.777405   29.106322\n",
              "1   148.332967  25.552974  57.021564   23.665780\n",
              "2   136.575617  25.887313  48.978573   18.827713\n",
              "3   149.648299  23.708126  49.789848   19.386960\n",
              "4   125.409260  31.461631  36.781697    9.386208\n",
              "..         ...        ...        ...         ...\n",
              "95  126.441369  28.309360  29.880297    7.852938\n",
              "96  142.887801  26.624585  51.335485   15.969681\n",
              "97  144.097863  28.174387  50.290016   28.893091\n",
              "98  136.944583  25.519997  52.869515   26.692675\n",
              "99  147.633843  30.792128  57.840485   42.393510\n",
              "\n",
              "[100 rows x 4 columns]"
            ],
            "text/html": [
              "\n",
              "  <div id=\"df-07c15b69-96d3-47d4-8114-3b28fa481cb6\">\n",
              "    <div class=\"colab-df-container\">\n",
              "      <div>\n",
              "<style scoped>\n",
              "    .dataframe tbody tr th:only-of-type {\n",
              "        vertical-align: middle;\n",
              "    }\n",
              "\n",
              "    .dataframe tbody tr th {\n",
              "        vertical-align: top;\n",
              "    }\n",
              "\n",
              "    .dataframe thead th {\n",
              "        text-align: right;\n",
              "    }\n",
              "</style>\n",
              "<table border=\"1\" class=\"dataframe\">\n",
              "  <thead>\n",
              "    <tr style=\"text-align: right;\">\n",
              "      <th></th>\n",
              "      <th>sbp</th>\n",
              "      <th>bmi</th>\n",
              "      <th>age</th>\n",
              "      <th>experience</th>\n",
              "    </tr>\n",
              "  </thead>\n",
              "  <tbody>\n",
              "    <tr>\n",
              "      <th>0</th>\n",
              "      <td>134.862052</td>\n",
              "      <td>34.497381</td>\n",
              "      <td>44.777405</td>\n",
              "      <td>29.106322</td>\n",
              "    </tr>\n",
              "    <tr>\n",
              "      <th>1</th>\n",
              "      <td>148.332967</td>\n",
              "      <td>25.552974</td>\n",
              "      <td>57.021564</td>\n",
              "      <td>23.665780</td>\n",
              "    </tr>\n",
              "    <tr>\n",
              "      <th>2</th>\n",
              "      <td>136.575617</td>\n",
              "      <td>25.887313</td>\n",
              "      <td>48.978573</td>\n",
              "      <td>18.827713</td>\n",
              "    </tr>\n",
              "    <tr>\n",
              "      <th>3</th>\n",
              "      <td>149.648299</td>\n",
              "      <td>23.708126</td>\n",
              "      <td>49.789848</td>\n",
              "      <td>19.386960</td>\n",
              "    </tr>\n",
              "    <tr>\n",
              "      <th>4</th>\n",
              "      <td>125.409260</td>\n",
              "      <td>31.461631</td>\n",
              "      <td>36.781697</td>\n",
              "      <td>9.386208</td>\n",
              "    </tr>\n",
              "    <tr>\n",
              "      <th>...</th>\n",
              "      <td>...</td>\n",
              "      <td>...</td>\n",
              "      <td>...</td>\n",
              "      <td>...</td>\n",
              "    </tr>\n",
              "    <tr>\n",
              "      <th>95</th>\n",
              "      <td>126.441369</td>\n",
              "      <td>28.309360</td>\n",
              "      <td>29.880297</td>\n",
              "      <td>7.852938</td>\n",
              "    </tr>\n",
              "    <tr>\n",
              "      <th>96</th>\n",
              "      <td>142.887801</td>\n",
              "      <td>26.624585</td>\n",
              "      <td>51.335485</td>\n",
              "      <td>15.969681</td>\n",
              "    </tr>\n",
              "    <tr>\n",
              "      <th>97</th>\n",
              "      <td>144.097863</td>\n",
              "      <td>28.174387</td>\n",
              "      <td>50.290016</td>\n",
              "      <td>28.893091</td>\n",
              "    </tr>\n",
              "    <tr>\n",
              "      <th>98</th>\n",
              "      <td>136.944583</td>\n",
              "      <td>25.519997</td>\n",
              "      <td>52.869515</td>\n",
              "      <td>26.692675</td>\n",
              "    </tr>\n",
              "    <tr>\n",
              "      <th>99</th>\n",
              "      <td>147.633843</td>\n",
              "      <td>30.792128</td>\n",
              "      <td>57.840485</td>\n",
              "      <td>42.393510</td>\n",
              "    </tr>\n",
              "  </tbody>\n",
              "</table>\n",
              "<p>100 rows × 4 columns</p>\n",
              "</div>\n",
              "      <button class=\"colab-df-convert\" onclick=\"convertToInteractive('df-07c15b69-96d3-47d4-8114-3b28fa481cb6')\"\n",
              "              title=\"Convert this dataframe to an interactive table.\"\n",
              "              style=\"display:none;\">\n",
              "        \n",
              "  <svg xmlns=\"http://www.w3.org/2000/svg\" height=\"24px\"viewBox=\"0 0 24 24\"\n",
              "       width=\"24px\">\n",
              "    <path d=\"M0 0h24v24H0V0z\" fill=\"none\"/>\n",
              "    <path d=\"M18.56 5.44l.94 2.06.94-2.06 2.06-.94-2.06-.94-.94-2.06-.94 2.06-2.06.94zm-11 1L8.5 8.5l.94-2.06 2.06-.94-2.06-.94L8.5 2.5l-.94 2.06-2.06.94zm10 10l.94 2.06.94-2.06 2.06-.94-2.06-.94-.94-2.06-.94 2.06-2.06.94z\"/><path d=\"M17.41 7.96l-1.37-1.37c-.4-.4-.92-.59-1.43-.59-.52 0-1.04.2-1.43.59L10.3 9.45l-7.72 7.72c-.78.78-.78 2.05 0 2.83L4 21.41c.39.39.9.59 1.41.59.51 0 1.02-.2 1.41-.59l7.78-7.78 2.81-2.81c.8-.78.8-2.07 0-2.86zM5.41 20L4 18.59l7.72-7.72 1.47 1.35L5.41 20z\"/>\n",
              "  </svg>\n",
              "      </button>\n",
              "      \n",
              "  <style>\n",
              "    .colab-df-container {\n",
              "      display:flex;\n",
              "      flex-wrap:wrap;\n",
              "      gap: 12px;\n",
              "    }\n",
              "\n",
              "    .colab-df-convert {\n",
              "      background-color: #E8F0FE;\n",
              "      border: none;\n",
              "      border-radius: 50%;\n",
              "      cursor: pointer;\n",
              "      display: none;\n",
              "      fill: #1967D2;\n",
              "      height: 32px;\n",
              "      padding: 0 0 0 0;\n",
              "      width: 32px;\n",
              "    }\n",
              "\n",
              "    .colab-df-convert:hover {\n",
              "      background-color: #E2EBFA;\n",
              "      box-shadow: 0px 1px 2px rgba(60, 64, 67, 0.3), 0px 1px 3px 1px rgba(60, 64, 67, 0.15);\n",
              "      fill: #174EA6;\n",
              "    }\n",
              "\n",
              "    [theme=dark] .colab-df-convert {\n",
              "      background-color: #3B4455;\n",
              "      fill: #D2E3FC;\n",
              "    }\n",
              "\n",
              "    [theme=dark] .colab-df-convert:hover {\n",
              "      background-color: #434B5C;\n",
              "      box-shadow: 0px 1px 3px 1px rgba(0, 0, 0, 0.15);\n",
              "      filter: drop-shadow(0px 1px 2px rgba(0, 0, 0, 0.3));\n",
              "      fill: #FFFFFF;\n",
              "    }\n",
              "  </style>\n",
              "\n",
              "      <script>\n",
              "        const buttonEl =\n",
              "          document.querySelector('#df-07c15b69-96d3-47d4-8114-3b28fa481cb6 button.colab-df-convert');\n",
              "        buttonEl.style.display =\n",
              "          google.colab.kernel.accessAllowed ? 'block' : 'none';\n",
              "\n",
              "        async function convertToInteractive(key) {\n",
              "          const element = document.querySelector('#df-07c15b69-96d3-47d4-8114-3b28fa481cb6');\n",
              "          const dataTable =\n",
              "            await google.colab.kernel.invokeFunction('convertToInteractive',\n",
              "                                                     [key], {});\n",
              "          if (!dataTable) return;\n",
              "\n",
              "          const docLinkHtml = 'Like what you see? Visit the ' +\n",
              "            '<a target=\"_blank\" href=https://colab.research.google.com/notebooks/data_table.ipynb>data table notebook</a>'\n",
              "            + ' to learn more about interactive tables.';\n",
              "          element.innerHTML = '';\n",
              "          dataTable['output_type'] = 'display_data';\n",
              "          await google.colab.output.renderOutput(dataTable, element);\n",
              "          const docLink = document.createElement('div');\n",
              "          docLink.innerHTML = docLinkHtml;\n",
              "          element.appendChild(docLink);\n",
              "        }\n",
              "      </script>\n",
              "    </div>\n",
              "  </div>\n",
              "  "
            ]
          },
          "metadata": {},
          "execution_count": 2
        }
      ]
    },
    {
      "cell_type": "code",
      "source": [
        "import numpy as np\n",
        "A = np.zeros((2,2))\n",
        "A[0,0] = df['experience'].dot(df['experience'])\n",
        "A[0,1] = df['experience'].sum()\n",
        "A[1,0] = A[0,1]\n",
        "A[1,1] = df.shape[0]\n",
        "b = np.zeros(2)\n",
        "b[0] = df['sbp'].dot(df['experience'])\n",
        "b[1] = df['sbp'].sum()\n",
        "np.linalg.solve(A, b)"
      ],
      "metadata": {
        "colab": {
          "base_uri": "https://localhost:8080/"
        },
        "id": "G1l9u29dG34B",
        "outputId": "c3e3acd7-7dc8-41db-ca9e-14522b146d78"
      },
      "execution_count": null,
      "outputs": [
        {
          "output_type": "execute_result",
          "data": {
            "text/plain": [
              "array([  0.54322085, 126.8684478 ])"
            ]
          },
          "metadata": {},
          "execution_count": 11
        }
      ]
    },
    {
      "cell_type": "code",
      "source": [
        "import numpy as np\n",
        "from sklearn.linear_model import LinearRegression\n",
        "import seaborn as sns\n",
        "import matplotlib.pyplot as plt"
      ],
      "metadata": {
        "id": "aQrHNVeG3lrT"
      },
      "execution_count": null,
      "outputs": []
    },
    {
      "cell_type": "code",
      "source": [
        "sns.set_theme(color_codes=True)\n",
        "\n",
        "sns.regplot(x=\"experience\", y=\"sbp\", data=df[['experience','sbp']], ci=95)\n",
        "#df"
      ],
      "metadata": {
        "colab": {
          "base_uri": "https://localhost:8080/",
          "height": 475
        },
        "id": "gilj_Par3skA",
        "outputId": "f8502511-8354-4ea7-a8cc-0306e88321d4"
      },
      "execution_count": null,
      "outputs": [
        {
          "output_type": "execute_result",
          "data": {
            "text/plain": [
              "<Axes: xlabel='experience', ylabel='sbp'>"
            ]
          },
          "metadata": {},
          "execution_count": 4
        },
        {
          "output_type": "display_data",
          "data": {
            "text/plain": [
              "<Figure size 640x480 with 1 Axes>"
            ],
            "image/png": "[encoded data removed]"
          },
          "metadata": {}
        }
      ]
    },
    {
      "cell_type": "code",
      "source": [
        "model = LinearRegression()\n",
        "x = np.array(df['experience']).reshape((-1, 1))\n",
        "model.fit(x, df['sbp'])"
      ],
      "metadata": {
        "colab": {
          "base_uri": "https://localhost:8080/"
        },
        "id": "m4lfBxUZ5J6R",
        "outputId": "a2888dbf-a69d-4248-e8a1-ca013cf0aea6"
      },
      "execution_count": null,
      "outputs": [
        {
          "output_type": "execute_result",
          "data": {
            "text/plain": [
              "LinearRegression()"
            ]
          },
          "metadata": {},
          "execution_count": 52
        }
      ]
    },
    {
      "cell_type": "code",
      "source": [
        "print(model.score(x, df['sbp']))"
      ],
      "metadata": {
        "colab": {
          "base_uri": "https://localhost:8080/"
        },
        "id": "0c97pg4w6EVy",
        "outputId": "f9e314c1-5722-40bf-9fd3-2e9d5cdf51d3"
      },
      "execution_count": null,
      "outputs": [
        {
          "output_type": "stream",
          "name": "stdout",
          "text": [
            "0.46347697608230776\n"
          ]
        }
      ]
    },
    {
      "cell_type": "code",
      "source": [
        "print(model.intercept_)\n",
        "print(model.coef_)"
      ],
      "metadata": {
        "colab": {
          "base_uri": "https://localhost:8080/"
        },
        "id": "WHSM6WPr6dOJ",
        "outputId": "c646dba4-c718-46d0-e0ad-4b9190c0a0a2"
      },
      "execution_count": null,
      "outputs": [
        {
          "output_type": "stream",
          "name": "stdout",
          "text": [
            "126.8684477974939\n",
            "[0.54322085]\n"
          ]
        }
      ]
    },
    {
      "cell_type": "code",
      "source": [
        "import numpy as np\n",
        "from sklearn.linear_model import LinearRegression\n",
        "X = np.array([[1, 1], [1, 2], [2, 2], [2, 3]])\n",
        "# y = 1 * x_0 + 2 * x_1 + 3\n",
        "y = np.dot(X, np.array([1, 2])) + 3\n",
        "reg = LinearRegression().fit(X, y)\n",
        "reg.score(X, y)\n",
        "\n",
        "print(reg.coef_)\n",
        "\n",
        "print(reg.intercept_)\n",
        "\n",
        "reg.predict(np.array([[3, 5]]))"
      ],
      "metadata": {
        "colab": {
          "base_uri": "https://localhost:8080/"
        },
        "id": "4qrKPxQ8ohrr",
        "outputId": "3660f17d-e062-4b57-f6a4-ed45ec2048d3"
      },
      "execution_count": null,
      "outputs": [
        {
          "output_type": "stream",
          "name": "stdout",
          "text": [
            "[1. 2.]\n",
            "3.0000000000000018\n"
          ]
        },
        {
          "output_type": "execute_result",
          "data": {
            "text/plain": [
              "array([16.])"
            ]
          },
          "metadata": {},
          "execution_count": 24
        }
      ]
    },
    {
      "cell_type": "markdown",
      "metadata": {
        "id": "klHWLfIFHeZu"
      },
      "source": [
        "Регрессионный анализ - одна из важнейших областей статистики и машинного обучения. Существует множество методов регрессии (линейная, полиномиальная, логистическая и т. д.).\n",
        "\n",
        "Линейная регрессия - простейший и одновременно с тем один из основных методов статистически и машинного обучения.\n",
        "В этом уроке вы изучите методы построения гинейных регрессионных моделей.\n",
        "\n",
        "После изучения этого урока вы будете знать:\n",
        "*  когда можно строить линейные  регрессионные модели, т. е. какие условия наклдываются на исходные данные и связи между ними;\n",
        "*  какие пакеты позволяют строить и исследовать регрессионные модели;\n",
        "*  как интерпретировать результаты, полученные при построении регрессионной модели;\n",
        "*  как визуализировать исходные данные и полученные регрессионные модели."
      ]
    },
    {
      "cell_type": "markdown",
      "metadata": {
        "id": "fO-H2Z7SSWbu"
      },
      "source": [
        "#Теоретический блок\n",
        "\n",
        "После того, как методами корреляционного анализа установлено, что существует линейная связь между признаками, естественно возникает вопрос, как описать эту связь в виде формулы. Например, пусть установлено, что цены на нефть влияют на доходную часть бюджета, требуется узнать,\n",
        "*  на сколько увеличивается доход в бюджет при увеличении цены на нефт на один доллар за беррель;\n",
        "*  какой ожидается доход в бюджет, если цена на нефть установится на уровне 80 долларов за баррель.\n",
        "\n",
        "\n",
        "**Определение:**\n",
        "Регрессионный анализ - статистический метод исследования влияния одной или нескольких независимых переменных $X_1, X_2, \\ldots, X_m$ на зависимую переменную $Y.$ При этом предполагается, что связь между переменными имеет вид\n",
        "\n",
        "$Y = f(X_1, X_2, \\ldots, X_m; a) + \\varepsilon,$\n",
        "\n",
        "где $a$ --- вектор параметров, подлежащих оценке, $f$ --- известная функция $\\varepsilon$ --- случайная ошибка.\n",
        "\n",
        "Функцию $f$ называют функцией регрессии. Если функция $f$ имеет вид $a_1 X_1 + a_2 X_2 + \\ldots + a_n X_m + a_0,$ то регрессию называют линейной. Независимые переменные иначе называют предикторами или факторами; зависимую величину называют регрессором. Терминология зависимых и независимых переменных отражает лишь математическую зависимость переменных, а не причинно-следственные отношения.\n",
        "\n",
        "\n",
        "**Как определить параметры**\n",
        "\n",
        "Для оценки параметров прововдят $n$ наблюдений за факторами и зависимой величиной. Пусть в первом наблюдении получены $Y_1, X_{11}, \\ldots, X_{m1},$ во втором --- $Y_2, X_{12}, \\ldots, X_{m2},$ и так далее, в $n$-ом наблюдении --- $Y_n, X_{1n}, \\ldots, X_{mn}.$ При этом разница  $Y_i - f(X_{1i}, \\ldots, X_{mi}; a) = \\varepsilon_i$ --- это  ошибка в $i$-ом наблюдении, $i=1, 2, \\ldots, n.$\n",
        "\n",
        "\n",
        "**Требования к исходным данным**\n",
        "\n",
        "В классической линейной регрессии предполагается, что выполнены  следующие предположения:\n",
        "\n",
        "* ошибки распределены по нормальному закону;\n",
        "* математическое ожидание ошибок равно нулю;\n",
        "* случайные ошибки модели гомоскедастичные, т. е. дисперсия ощибок постоянная, не зависит от значений предикторов;\n",
        "* корреляции случайных ошибок отсутствует.\n",
        "\n",
        "При выполнении классических предположений обычный метод наименьших квадратов позволяет получить достаточно качественные оценки параметров модели, а именно: они являются несмещенными, состоятельными и наиболее эффективными оценками."
      ]
    },
    {
      "cell_type": "markdown",
      "metadata": {
        "id": "Se_uEg9HuieN"
      },
      "source": [
        "# Задача 1\n",
        "\n",
        "Явно заданы массивы значения предиктора x и зависимой велчины (регрессора) y:\n",
        "\n",
        "x = [5, 15, 25, 35, 45, 55]\n",
        "\n",
        "y = [5, 20, 14, 32, 22, 38]\n",
        "\n",
        "Построить линейную регрессию: $y = b_0 + b_1  x$"
      ]
    },
    {
      "cell_type": "markdown",
      "metadata": {
        "id": "J-sHe28BtMnR"
      },
      "source": [
        "### Шаг 1\n",
        "Начать надо с подключения нужных пакетов.\n",
        "\n",
        "Пакет scikit-learn - это широко используемая библиотека Python для машинного обучения, построенная на основе NumPy и некоторых других пакетов. Пакет scikit-learn предоставляет средства для предварительной обработки данных, построения регрессии, а так же уменьшения размерности, классификации, кластеризации и многого другого. Пакет scikit-learn имеет открытый исходный код.\n",
        "\n",
        "Узнать подробнее о линейных моделях и получить более глубокое представление о том, как работает этот пакет, можно на странице Generalized Linear Models https://scikit-learn.org/stable/modules/linear_model.html.\n",
        "\n",
        "Если вы хотите реализовать линейную регрессию и вам нужны функциональные возможности, выходящие за рамки scikit-learn, можно обратиться к пакету  statsmodels. Это мощный пакет Python для оценки статистических моделей, выполнения тестов и многого другого. Этот пакет тоже открытый исходный код. https://www.statsmodels.org/stable/index.html."
      ]
    },
    {
      "cell_type": "code",
      "metadata": {
        "id": "VFMtMtZXYTvP"
      },
      "source": [
        "import numpy as np\n",
        "from sklearn.linear_model import LinearRegression\n",
        "import seaborn as sns\n",
        "import matplotlib.pyplot as plt\n",
        "import pandas as pd"
      ],
      "execution_count": null,
      "outputs": []
    },
    {
      "cell_type": "markdown",
      "metadata": {
        "id": "W9nAZP5iaUNI"
      },
      "source": [
        "Основным типом данных NumPy является тип numpy.ndarray. В этом уровке мы будем использовать термин \"массив\" для обозначения экземпляров типа numpy.ndarray. Не путать с list - списком Python."
      ]
    },
    {
      "cell_type": "markdown",
      "metadata": {
        "id": "7U7TYOb7a3kK"
      },
      "source": [
        "### Шаг 2\n",
        "\n",
        "Второй шаг - определение данных для работы. Входные данные (регрессоры,  x) и выходные данные (предиктор, y) должны быть массивами (экземплярами класса numpy.ndarray) или подобными объектами."
      ]
    },
    {
      "cell_type": "code",
      "metadata": {
        "colab": {
          "base_uri": "https://localhost:8080/"
        },
        "id": "D-RckWiGbN_x",
        "outputId": "2cd460d1-ab1f-41fc-998c-1c2e0a84bae4"
      },
      "source": [
        "x = np.array([5, 15, 25, 30, 35, 45, 55])\n",
        "y = np.array([5, 20, 14, 22, 32, 22, 38])\n",
        "\n",
        "print(x)\n",
        "print(y)\n"
      ],
      "execution_count": null,
      "outputs": [
        {
          "output_type": "stream",
          "name": "stdout",
          "text": [
            "[ 5 15 25 30 35 45 55]\n",
            "[ 5 20 14 22 32 22 38]\n"
          ]
        }
      ]
    },
    {
      "cell_type": "markdown",
      "metadata": {
        "id": "oy_3T93aipbf"
      },
      "source": [
        "Визуализируем данные, чтобы оценить, насколько оправдано применения линейной регрессии."
      ]
    },
    {
      "cell_type": "code",
      "metadata": {
        "colab": {
          "base_uri": "https://localhost:8080/",
          "height": 537
        },
        "id": "vCZmcfXai0XC",
        "outputId": "3027073c-c8b0-492b-9366-fbe05a69a28b"
      },
      "source": [
        "sns.set_theme(color_codes=True)\n",
        "df = pd.DataFrame(list(zip(x, y)), columns=['x', 'y'])\n",
        "sns.regplot(x=\"x\", y=\"y\", data=df, ci=95)\n",
        "df"
      ],
      "execution_count": null,
      "outputs": [
        {
          "output_type": "execute_result",
          "data": {
            "text/html": [
              "<div>\n",
              "<style scoped>\n",
              "    .dataframe tbody tr th:only-of-type {\n",
              "        vertical-align: middle;\n",
              "    }\n",
              "\n",
              "    .dataframe tbody tr th {\n",
              "        vertical-align: top;\n",
              "    }\n",
              "\n",
              "    .dataframe thead th {\n",
              "        text-align: right;\n",
              "    }\n",
              "</style>\n",
              "<table border=\"1\" class=\"dataframe\">\n",
              "  <thead>\n",
              "    <tr style=\"text-align: right;\">\n",
              "      <th></th>\n",
              "      <th>x</th>\n",
              "      <th>y</th>\n",
              "    </tr>\n",
              "  </thead>\n",
              "  <tbody>\n",
              "    <tr>\n",
              "      <th>0</th>\n",
              "      <td>5</td>\n",
              "      <td>5</td>\n",
              "    </tr>\n",
              "    <tr>\n",
              "      <th>1</th>\n",
              "      <td>15</td>\n",
              "      <td>20</td>\n",
              "    </tr>\n",
              "    <tr>\n",
              "      <th>2</th>\n",
              "      <td>25</td>\n",
              "      <td>14</td>\n",
              "    </tr>\n",
              "    <tr>\n",
              "      <th>3</th>\n",
              "      <td>30</td>\n",
              "      <td>22</td>\n",
              "    </tr>\n",
              "    <tr>\n",
              "      <th>4</th>\n",
              "      <td>35</td>\n",
              "      <td>32</td>\n",
              "    </tr>\n",
              "    <tr>\n",
              "      <th>5</th>\n",
              "      <td>45</td>\n",
              "      <td>22</td>\n",
              "    </tr>\n",
              "    <tr>\n",
              "      <th>6</th>\n",
              "      <td>55</td>\n",
              "      <td>38</td>\n",
              "    </tr>\n",
              "  </tbody>\n",
              "</table>\n",
              "</div>"
            ],
            "text/plain": [
              "    x   y\n",
              "0   5   5\n",
              "1  15  20\n",
              "2  25  14\n",
              "3  30  22\n",
              "4  35  32\n",
              "5  45  22\n",
              "6  55  38"
            ]
          },
          "metadata": {},
          "execution_count": 27
        },
        {
          "output_type": "display_data",
          "data": {
            "image/png": "[encoded data removed]",
            "text/plain": [
              "<Figure size 432x288 with 1 Axes>"
            ]
          },
          "metadata": {}
        }
      ]
    },
    {
      "cell_type": "markdown",
      "metadata": {
        "id": "oi6VAO1ZjUgE"
      },
      "source": [
        "Необходимо вызвать .reshape() для x, потому что этот массив должен быть двумерным, или, если быть более точным, иметь один столбец и столько строк, сколько необходимо. Это может показаться странным при построении *парной* линейной регресии; однако, при построении *множественной* линейной регресии станет очевидно, что данный подход удобен и оправдан."
      ]
    },
    {
      "cell_type": "code",
      "metadata": {
        "colab": {
          "base_uri": "https://localhost:8080/"
        },
        "id": "B6MHuQhzjV8h",
        "outputId": "b4672549-bce1-4489-a2f8-33a26a289f31"
      },
      "source": [
        "x = x.reshape((-1, 1))\n",
        "print(x)"
      ],
      "execution_count": null,
      "outputs": [
        {
          "output_type": "stream",
          "name": "stdout",
          "text": [
            "[[ 5]\n",
            " [15]\n",
            " [25]\n",
            " [30]\n",
            " [35]\n",
            " [45]\n",
            " [55]]\n"
          ]
        }
      ]
    },
    {
      "cell_type": "markdown",
      "metadata": {
        "id": "1LdeSiyFgDyw"
      },
      "source": [
        "### Шаг 3\n",
        "\n",
        "Следующим шагом является создание модели линейной регрессии и ее подгонка (англ. fit) к существующим данным.\n",
        "\n",
        "Создадим модель как экземпляр LinearRegression. Можно предать LinearRegression несколько дополнительных параметров:\n",
        "*  fit_intercept\n",
        "*  normalize\n",
        "*  copy_X\n",
        "*  n_jobs\n",
        "В этом примере используются значения по умолчанию для всех параметров."
      ]
    },
    {
      "cell_type": "code",
      "metadata": {
        "id": "xxw_cqfrhkXH"
      },
      "source": [
        "model = LinearRegression()"
      ],
      "execution_count": null,
      "outputs": []
    },
    {
      "cell_type": "markdown",
      "metadata": {
        "id": "phSzdKnOhsea"
      },
      "source": [
        "Далее можно пользоваться моделью.\n",
        "\n",
        "Во-первых, нужно вызвать .fit () для модели. С помощью .fit () вычисляются оптимальные значения весов $b_0$ и $b_1,$ на основе  существующих входных данных x и y. Другими словами, .fit () выполняет подгонку модели."
      ]
    },
    {
      "cell_type": "code",
      "metadata": {
        "id": "6ScuB67uhpvH",
        "colab": {
          "base_uri": "https://localhost:8080/"
        },
        "outputId": "495b8bb3-5bce-4ff2-811f-9350a6e89948"
      },
      "source": [
        "model.fit(x, y)"
      ],
      "execution_count": null,
      "outputs": [
        {
          "output_type": "execute_result",
          "data": {
            "text/plain": [
              "LinearRegression()"
            ]
          },
          "metadata": {},
          "execution_count": 30
        }
      ]
    },
    {
      "cell_type": "markdown",
      "metadata": {
        "id": "HG1_TZGjjvKS"
      },
      "source": [
        "### Шаг 4\n",
        "\n",
        "Нужно проверить, насколько качественно моель построена.\n",
        "Для этого можено получить коэффициент детерминации ($R^2$) с помощью метода .score(), вызванного для модели.\n",
        "\n",
        "**Вопрос для обсуждения**\n",
        "\n",
        "Каков содержательный смысл коэффициента детерминации? В каких пределах меняется коэффициент детерминации?"
      ]
    },
    {
      "cell_type": "code",
      "metadata": {
        "id": "C0Z0sZzOkdDg",
        "colab": {
          "base_uri": "https://localhost:8080/"
        },
        "outputId": "8e8d9531-5b9f-452a-91ce-66fe31f66e84"
      },
      "source": [
        "r_sq = model.score(x, y)\n",
        "print('coefficient of determination:', r_sq)"
      ],
      "execution_count": null,
      "outputs": [
        {
          "output_type": "stream",
          "name": "stdout",
          "text": [
            "coefficient of determination: 0.7158517034068136\n"
          ]
        }
      ]
    },
    {
      "cell_type": "markdown",
      "metadata": {
        "id": "KgxRio2t92OG"
      },
      "source": [
        "Атрибуты модели:\n",
        "*  .intercept_, константа $b_0$,\n",
        "*  .coef_, массив коэффициентов при предикторах, в данном случае состоит только из одного элемента $b_1,$ так как регрессия *парная*.\n",
        "\n",
        "**Вопрос для обсуждения**\n",
        "\n",
        "Каков содержательный смысл коэффициента $b_0$ и $b_1$?"
      ]
    },
    {
      "cell_type": "code",
      "metadata": {
        "colab": {
          "base_uri": "https://localhost:8080/"
        },
        "id": "o7zoFT7y-B6U",
        "outputId": "65851384-ef31-4459-ecd7-743b51a220d7"
      },
      "source": [
        "print('intercept:', model.intercept_)\n",
        "print('slope:', model.coef_)"
      ],
      "execution_count": null,
      "outputs": [
        {
          "output_type": "stream",
          "name": "stdout",
          "text": [
            "intercept: 5.657142857142851\n",
            "slope: [0.54]\n"
          ]
        }
      ]
    },
    {
      "cell_type": "markdown",
      "metadata": {
        "id": "mmutq1wsAkvi"
      },
      "source": [
        "### Шаг 5\n",
        "\n",
        "Как только будет построена удовлетворительная модель парной линейной регрессии, ее можно использовать для прогнозов с использованием существующих или новых данных.\n",
        "\n",
        "Чтобы получить прогнозируемый ответ, можно использовать метод .predict ():"
      ]
    },
    {
      "cell_type": "code",
      "metadata": {
        "colab": {
          "base_uri": "https://localhost:8080/"
        },
        "id": "vc5Dapc-BAb5",
        "outputId": "0e979e18-09c8-498f-fb34-b5149fd3cf30"
      },
      "source": [
        "x_new = np.array([i for i in range(20, 60, 10)]).reshape((-1, 1))\n",
        "y_pred = model.predict(x_new)\n",
        "for i in range(len(y_pred)):\n",
        "  print(x_new[i,0], '\\t', round(y_pred[i], 2))"
      ],
      "execution_count": null,
      "outputs": [
        {
          "output_type": "stream",
          "name": "stdout",
          "text": [
            "20 \t 16.46\n",
            "30 \t 21.86\n",
            "40 \t 27.26\n",
            "50 \t 32.66\n"
          ]
        }
      ]
    },
    {
      "cell_type": "markdown",
      "metadata": {
        "id": "Huyq3LYqBKbL"
      },
      "source": [
        "При применении метода .predict () в качестве аргумента передают регрессор и получают соответствующий прогнозируемый ответ.\n",
        "\n",
        "Вот еще один, почти идентичный, способ предсказать ответ:"
      ]
    },
    {
      "cell_type": "code",
      "metadata": {
        "id": "PuXyzY9XBYCI",
        "colab": {
          "base_uri": "https://localhost:8080/"
        },
        "outputId": "939b28ad-4a00-4a35-e6c4-baf1d14a9bcf"
      },
      "source": [
        " y_pred = model.intercept_ + model.coef_ * x_new\n",
        " print(y_pred)"
      ],
      "execution_count": null,
      "outputs": [
        {
          "output_type": "stream",
          "name": "stdout",
          "text": [
            "[[14.46397225 10.6230889 ]\n",
            " [18.93466874 13.17334371]\n",
            " [23.40536523 15.72359853]\n",
            " [27.87606172 18.27385334]]\n"
          ]
        }
      ]
    },
    {
      "cell_type": "markdown",
      "metadata": {
        "id": "v5jNdeVMDeSe"
      },
      "source": [
        "# Задача 2\n",
        "Данная задача носит теретический характер. Она призвана\n",
        "\n",
        "*  прояснить смысл параметров, входящих в уравнение парной линейной регрессии;\n",
        "*  показать зависимость параметров от входных данных, объема выборки и иных параметров."
      ]
    },
    {
      "cell_type": "markdown",
      "metadata": {
        "id": "KOpAbNKvEXN7"
      },
      "source": [
        "Сгенерировать набор псевдослучаных чисел, x и y, - выборку, извлеченную из двумерной нормально распределенной генеральной совокупности.\n",
        "\n",
        "Объем выборки определяется параметром sampleSize.\n",
        "\n",
        "Случайные величины X и Y связаны линейной связью:\n",
        "Y = regConst + regCoef * X + error,\n",
        "где\n",
        "error - случайная величина со ст. отклонением = noise, мат. ожиданием = 0.\n",
        "\n",
        "Исследовать,\n",
        "\n",
        "*  как зависит коэффициент детерминации от параметра noise;\n",
        "*  чему будет равен коэффициент детерминации, когда параметр noise = 0;\n",
        "*  как зависит коэффициент детерминации от параметра regCoef;\n",
        "*  как зависит коэффициент детерминации от объема выборки;\n",
        "*  как зависит ширина 95% доверительного интервала в прогнозах от параметра noise;\n",
        "*  как зависит ширина 95% доверительного интервала в прогнозах от объема выборки.\n"
      ]
    },
    {
      "cell_type": "code",
      "metadata": {
        "colab": {
          "base_uri": "https://localhost:8080/",
          "height": 337
        },
        "id": "I6hXPdDaD96b",
        "outputId": "88872ba8-a401-4f48-e56e-95d017893457"
      },
      "source": [
        "import numpy as np\n",
        "from sklearn.linear_model import LinearRegression\n",
        "import seaborn as sns\n",
        "import matplotlib.pyplot as plt\n",
        "import pandas as pd\n",
        "\n",
        "np.random.seed(1)\n",
        "noise = 2\n",
        "sampleSize = 200\n",
        "regCoef = 1\n",
        "regConst = 30\n",
        "\n",
        "#Here parameters std. dev = 20 and mean = 100 were chosen arbitrarily\n",
        "x = 20 * np.random.randn(sampleSize) + 100\n",
        "\n",
        "y = 1 * x + 30 + noise * np.random.randn(sampleSize)\n",
        "df = pd.DataFrame(list(zip(x, y)), columns=['total_bill', 'tip'])\n",
        "sns.regplot(x=\"total_bill\", y=\"tip\", data=df)\n",
        "\n",
        "x = x.reshape((-1, 1))\n",
        "model = LinearRegression()\n",
        "model.fit(x, y)\n",
        "\n",
        "r_sq = model.score(x, y)\n",
        "print('Coefficient of determination', r_sq * 100, '%')\n",
        "print('Coefficient of determination', model.intercept_)\n",
        "print('Coefficient of determination', model.coef_)"
      ],
      "execution_count": null,
      "outputs": [
        {
          "output_type": "stream",
          "name": "stdout",
          "text": [
            "Coefficient of determination 98.7115078418499 %\n",
            "Coefficient of determination 30.55297871217489\n",
            "Coefficient of determination [0.99448254]\n"
          ]
        },
        {
          "output_type": "display_data",
          "data": {
            "image/png": "[encoded data removed]",
            "text/plain": [
              "<Figure size 432x288 with 1 Axes>"
            ]
          },
          "metadata": {}
        }
      ]
    },
    {
      "cell_type": "code",
      "metadata": {
        "colab": {
          "base_uri": "https://localhost:8080/",
          "height": 337
        },
        "id": "9cAIQLi4J18e",
        "outputId": "9ef7a754-7864-454c-afa6-ff472620baa9"
      },
      "source": [
        "#При увеличении noise до 10, коэффициент детерминации уменьшается\n",
        "#При увеличении noise до 10, 95% доверительные интервалы\n",
        "#для прогнозируемых значений увеличиваются (становятся шире)\n",
        "noise = 10\n",
        "sampleSize = 20\n",
        "regCoef = 1\n",
        "regConst = 30\n",
        "\n",
        "#Here parameters std. dev = 20 and mean = 100 were chosen arbitrarily\n",
        "x = 20 * np.random.randn(sampleSize) + 100\n",
        "\n",
        "y = 1 * x + 30 + noise * np.random.randn(sampleSize)\n",
        "df = pd.DataFrame(list(zip(x, y)), columns=['total_bill', 'tip'])\n",
        "sns.regplot(x=\"total_bill\", y=\"tip\", data=df)\n",
        "\n",
        "x = x.reshape((-1, 1))\n",
        "model = LinearRegression()\n",
        "model.fit(x, y)\n",
        "\n",
        "r_sq = model.score(x, y)\n",
        "print('Coefficient of determination', r_sq * 100, '%')\n",
        "print('Coefficient of determination', model.intercept_)\n",
        "print('Coefficient of determination', model.coef_)"
      ],
      "execution_count": null,
      "outputs": [
        {
          "output_type": "stream",
          "name": "stdout",
          "text": [
            "Coefficient of determination 90.5985450223023 %\n",
            "Coefficient of determination 37.11849430707508\n",
            "Coefficient of determination [0.97847758]\n"
          ]
        },
        {
          "output_type": "display_data",
          "data": {
            "image/png": "[encoded data removed]",
            "text/plain": [
              "<Figure size 432x288 with 1 Axes>"
            ]
          },
          "metadata": {}
        }
      ]
    },
    {
      "cell_type": "code",
      "metadata": {
        "colab": {
          "base_uri": "https://localhost:8080/",
          "height": 337
        },
        "id": "p_rWQfLGKZol",
        "outputId": "dd0ad20a-8fdc-45af-eec4-3a2bdf36d610"
      },
      "source": [
        "#При увеличении объема выборки, 95% доверительные интервалы сужаются\n",
        "noise = 10\n",
        "sampleSize = 180\n",
        "regCoef = 1\n",
        "regConst = 30\n",
        "\n",
        "#Here parameters std. dev = 20 and mean = 100 were chosen arbitrarily\n",
        "x = 20 * np.random.randn(sampleSize) + 100\n",
        "\n",
        "y = 1 * x + 30 + noise * np.random.randn(sampleSize)\n",
        "df = pd.DataFrame(list(zip(x, y)), columns=['total_bill', 'tip'])\n",
        "sns.regplot(x=\"total_bill\", y=\"tip\", data=df)\n",
        "\n",
        "x = x.reshape((-1, 1))\n",
        "model = LinearRegression()\n",
        "model.fit(x, y)\n",
        "\n",
        "r_sq = model.score(x, y)\n",
        "print('Coefficient of determination', r_sq * 100, '%')\n",
        "print('Coefficient of determination', model.intercept_)\n",
        "print('Coefficient of determination', model.coef_)"
      ],
      "execution_count": null,
      "outputs": [
        {
          "output_type": "stream",
          "name": "stdout",
          "text": [
            "Coefficient of determination 80.10810368749839 %\n",
            "Coefficient of determination 31.09486990050337\n",
            "Coefficient of determination [0.98316861]\n"
          ]
        },
        {
          "output_type": "display_data",
          "data": {
            "image/png": "[encoded data removed]",
            "text/plain": [
              "<Figure size 432x288 with 1 Axes>"
            ]
          },
          "metadata": {}
        }
      ]
    },
    {
      "cell_type": "markdown",
      "metadata": {
        "id": "cVyaOrBbYb9v"
      },
      "source": [
        "#### Задача 3\n",
        "\n",
        "Явно заданы массивы значений предиктора x и зависимой велчины (регрессора) y:\n",
        "\n",
        "x = [[0, 1], [5, 1], [15, 2], [25, 5], [35, 11], [45, 15], [55, 34], [60, 35]]\n",
        "\n",
        "y = [4, 5, 20, 14, 32, 22, 38, 43]\n",
        "\n",
        "Построить линейную регрессию: $y = b_0 + b_1 x_1 + b_2 x_2.$\n",
        "\n"
      ]
    },
    {
      "cell_type": "code",
      "metadata": {
        "colab": {
          "base_uri": "https://localhost:8080/"
        },
        "id": "gCMwAaVWKlUQ",
        "outputId": "f4f9c993-dd55-404d-cceb-3cbce5af8956"
      },
      "source": [
        "import numpy as np\n",
        "from sklearn.linear_model import LinearRegression\n",
        "\n",
        "x = [[0, 1], [5, 1], [15, 2], [25, 5], [35, 11], [45, 15], [55, 34], [60, 35]]\n",
        "y = [4, 5, 20, 14, 32, 22, 38, 43]\n",
        "x, y = np.array(x), np.array(y)\n",
        "\n",
        "\n",
        "model = LinearRegression().fit(x, y)\n",
        "r_sq = model.score(x, y)\n",
        "print('coefficient of determination:', r_sq)\n",
        "\n",
        "print('intercept:', model.intercept_)\n",
        "print('slope:', model.coef_)"
      ],
      "execution_count": null,
      "outputs": [
        {
          "output_type": "stream",
          "name": "stdout",
          "text": [
            "coefficient of determination: 0.8615939258756776\n",
            "intercept: 5.52257927519819\n",
            "slope: [0.44706965 0.25502548]\n"
          ]
        }
      ]
    },
    {
      "cell_type": "markdown",
      "metadata": {
        "id": "Gu--jS6sV77-"
      },
      "source": [
        "# Ответы на вопросы\n",
        "\n",
        "Коэффициент детерминации характеризует долю объясненной дисперсии. Коэффициент детерминации меняется от 0 до 1, чем он больше тем точнее модель.\n",
        "\n",
        "В модели парной линейной регрессии коэффициент $b_1$ при независимой величине имеет содержательный смысл: при увеличении предиктора на еницу своего измерения ргерессор увеличивается на $b_1.$"
      ]
    }
  ]
}